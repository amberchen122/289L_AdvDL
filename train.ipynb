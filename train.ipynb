{
 "cells": [
  {
   "cell_type": "code",
   "execution_count": 1,
   "id": "719c6b5c",
   "metadata": {},
   "outputs": [],
   "source": [
    "import argparse\n",
    "import datetime\n",
    "import os\n",
    "import sys\n",
    "import numpy as np\n",
    "import time\n",
    "import torch\n",
    "import torch.nn as nn\n",
    "import torch.optim as optim\n",
    "import torchvision\n",
    "import torchvision.transforms as transforms\n",
    "from torch.utils.data import DataLoader\n",
    "import torch.backends.cudnn as cudnn\n",
    "\n",
    "from timm.models import create_model\n",
    "\n",
    "from engine import train_one_epoch, evaluate\n",
    "from utils import get_training_dataloader, get_test_dataloader\n",
    "import models"
   ]
  },
  {
   "cell_type": "code",
   "execution_count": 5,
   "id": "2850b93f",
   "metadata": {},
   "outputs": [
    {
     "name": "stdout",
     "output_type": "stream",
     "text": [
      "Creating model: vit_base_patch16_224\n"
     ]
    },
    {
     "name": "stderr",
     "output_type": "stream",
     "text": [
      "Downloading: \"https://dl.fbaipublicfiles.com/deit/deit_base_patch16_224-b5f2ef4d.pth\" to /home/soroush/.cache/torch/hub/checkpoints/deit_base_patch16_224-b5f2ef4d.pth\n"
     ]
    },
    {
     "data": {
      "application/vnd.jupyter.widget-view+json": {
       "model_id": "d00fc55dfa7a4fe7827c2ebafe9bbef4",
       "version_major": 2,
       "version_minor": 0
      },
      "text/plain": [
       "  0%|          | 0.00/330M [00:00<?, ?B/s]"
      ]
     },
     "metadata": {},
     "output_type": "display_data"
    },
    {
     "name": "stdout",
     "output_type": "stream",
     "text": [
      "Files already downloaded and verified\n",
      "Files already downloaded and verified\n",
      "number of params: 85875556\n"
     ]
    }
   ],
   "source": [
    "CIFAR100_TRAIN_MEAN = (0.5070751592371323, 0.48654887331495095, 0.4409178433670343)\n",
    "CIFAR100_TRAIN_STD = (0.2673342858792401, 0.2564384629170883, 0.27615047132568404)\n",
    "CHECKPOINT_PATH = './checkpoint'\n",
    "MODEL_NAME = 'vit_tiny_patch16_224'\n",
    "# MODEL_NAME = 'vit_small_patch16_224'\n",
    "# MODEL_NAME = 'vit_base_patch16_224'\n",
    "EPOCHS = 50\n",
    "LR = 0.0001\n",
    "WD = 0.0001\n",
    "\n",
    "\n",
    "print(f\"Creating model: {MODEL_NAME}\")\n",
    "model = create_model(\n",
    "        MODEL_NAME,\n",
    "        pretrained=True,\n",
    "        num_classes=100,\n",
    "        img_size=224)\n",
    "device = 'cuda:0' # device = 'cpu'\n",
    "model = model.to(device)\n",
    "\n",
    "cifar100_training_loader = get_training_dataloader(\n",
    "    CIFAR100_TRAIN_MEAN,\n",
    "    CIFAR100_TRAIN_STD,\n",
    "    num_workers=4,\n",
    "    batch_size=256,\n",
    "    shuffle=True\n",
    ")\n",
    "\n",
    "cifar100_test_loader = get_test_dataloader(\n",
    "    CIFAR100_TRAIN_MEAN,\n",
    "    CIFAR100_TRAIN_STD,\n",
    "    num_workers=4,\n",
    "    batch_size=256,\n",
    "    shuffle=False\n",
    ")\n",
    "\n",
    "criterion = nn.CrossEntropyLoss()\n",
    "optimizer = optim.Adam(model.parameters(), lr=LR, weight_decay=WD)\n",
    "\n",
    "n_parameters = sum(p.numel() for p in model.parameters() if p.requires_grad)\n",
    "print('number of params:', n_parameters)\n"
   ]
  },
  {
   "cell_type": "code",
   "execution_count": null,
   "id": "e5771f44",
   "metadata": {},
   "outputs": [],
   "source": [
    "print(f\"Start training for {EPOCHS} epochs\")\n",
    "\n",
    "for epoch in range(1, EPOCHS+1):\n",
    "    train_stats = train_one_epoch(\n",
    "        model, criterion, cifar100_training_loader,\n",
    "        optimizer, device, epoch)\n",
    "    test_stats = evaluate(cifar100_test_loader, model, criterion, device)\n",
    "    print(f\"Accuracy of the network on the {len(cifar100_test_loader)} test images: {test_stats['acc1']:.1f}%\")        "
   ]
  },
  {
   "cell_type": "code",
   "execution_count": null,
   "id": "9a667bfc",
   "metadata": {},
   "outputs": [],
   "source": [
    "start_time = time.time()\n",
    "test_stats = evaluate(cifar100_test_loader, model, criterion, device)\n",
    "end_time = time.time()\n",
    "num_samples = len(cifar100_test_loader.dataset)\n",
    "throughput = num_samples / (end_time - start_time)\n",
    "print(\"Throughput: {}\".format(throughput))"
   ]
  }
 ],
 "metadata": {
  "kernelspec": {
   "display_name": "Python 3 (ipykernel)",
   "language": "python",
   "name": "python3"
  },
  "language_info": {
   "codemirror_mode": {
    "name": "ipython",
    "version": 3
   },
   "file_extension": ".py",
   "mimetype": "text/x-python",
   "name": "python",
   "nbconvert_exporter": "python",
   "pygments_lexer": "ipython3",
   "version": "3.9.12"
  }
 },
 "nbformat": 4,
 "nbformat_minor": 5
}
