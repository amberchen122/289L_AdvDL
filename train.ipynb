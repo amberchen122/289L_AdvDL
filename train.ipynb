{
 "cells": [
  {
   "cell_type": "code",
   "execution_count": 1,
   "id": "719c6b5c",
   "metadata": {},
   "outputs": [],
   "source": [
    "import argparse\n",
    "import datetime\n",
    "import os\n",
    "import sys\n",
    "import numpy as np\n",
    "import time\n",
    "import torch\n",
    "import torch.nn as nn\n",
    "import torch.optim as optim\n",
    "import torchvision\n",
    "import torchvision.transforms as transforms\n",
    "from torch.utils.data import DataLoader\n",
    "import torch.backends.cudnn as cudnn\n",
    "\n",
    "from timm.models import create_model\n",
    "\n",
    "from engine import train_one_epoch, evaluate\n",
    "from utils import get_training_dataloader, get_test_dataloader\n",
    "import models"
   ]
  },
  {
   "cell_type": "code",
   "execution_count": 5,
   "id": "2850b93f",
   "metadata": {},
   "outputs": [
    {
     "name": "stdout",
     "output_type": "stream",
     "text": [
      "Creating model: vit_base_patch16_224\n"
     ]
    },
    {
     "name": "stderr",
     "output_type": "stream",
     "text": [
      "Downloading: \"https://dl.fbaipublicfiles.com/deit/deit_base_patch16_224-b5f2ef4d.pth\" to /home/soroush/.cache/torch/hub/checkpoints/deit_base_patch16_224-b5f2ef4d.pth\n"
     ]
    },
    {
     "data": {
      "application/vnd.jupyter.widget-view+json": {
       "model_id": "d00fc55dfa7a4fe7827c2ebafe9bbef4",
       "version_major": 2,
       "version_minor": 0
      },
      "text/plain": [
       "  0%|          | 0.00/330M [00:00<?, ?B/s]"
      ]
     },
     "metadata": {},
     "output_type": "display_data"
    },
    {
     "name": "stdout",
     "output_type": "stream",
     "text": [
      "Files already downloaded and verified\n",
      "Files already downloaded and verified\n",
      "number of params: 85875556\n"
     ]
    }
   ],
   "source": [
    "CIFAR100_TRAIN_MEAN = (0.5070751592371323, 0.48654887331495095, 0.4409178433670343)\n",
    "CIFAR100_TRAIN_STD = (0.2673342858792401, 0.2564384629170883, 0.27615047132568404)\n",
    "CHECKPOINT_PATH = './checkpoint'\n",
    "MODEL_NAME = 'vit_tiny_patch16_224'\n",
    "# MODEL_NAME = 'vit_small_patch16_224'\n",
    "# MODEL_NAME = 'vit_base_patch16_224'\n",
    "EPOCHS = 50\n",
    "LR = 0.0001\n",
    "WD = 0.0001\n",
    "\n",
    "\n",
    "print(f\"Creating model: {MODEL_NAME}\")\n",
    "model = create_model(\n",
    "        MODEL_NAME,\n",
    "        pretrained=True,\n",
    "        num_classes=100,\n",
    "        img_size=224)\n",
    "device = 'cuda:0' # device = 'cpu'\n",
    "model = model.to(device)\n",
    "\n",
    "cifar100_training_loader = get_training_dataloader(\n",
    "    CIFAR100_TRAIN_MEAN,\n",
    "    CIFAR100_TRAIN_STD,\n",
    "    num_workers=4,\n",
    "    batch_size=256,\n",
    "    shuffle=True\n",
    ")\n",
    "\n",
    "cifar100_test_loader = get_test_dataloader(\n",
    "    CIFAR100_TRAIN_MEAN,\n",
    "    CIFAR100_TRAIN_STD,\n",
    "    num_workers=4,\n",
    "    batch_size=256,\n",
    "    shuffle=False\n",
    ")\n",
    "\n",
    "criterion = nn.CrossEntropyLoss()\n",
    "optimizer = optim.Adam(model.parameters(), lr=LR, weight_decay=WD)\n",
    "\n",
    "n_parameters = sum(p.numel() for p in model.parameters() if p.requires_grad)\n",
    "print('number of params:', n_parameters)\n"
   ]
  },
  {
   "cell_type": "code",
   "execution_count": null,
   "id": "e5771f44",
   "metadata": {},
   "outputs": [
    {
     "name": "stdout",
     "output_type": "stream",
     "text": [
      "Start training for 50 epochs\n",
      "Epoch: [1]  [  0/196]  eta: 0:03:59  loss: 4.7447 (4.7447)  time: 1.2195  data: 0.8094  max mem: 25693\n",
      "Epoch: [1]  [100/196]  eta: 0:00:42  loss: 2.8646 (3.7247)  time: 0.4420  data: 0.0292  max mem: 26685\n",
      "Epoch: [1]  [195/196]  eta: 0:00:00  loss: 1.7908 (2.9429)  time: 0.4333  data: 0.0296  max mem: 26685\n",
      "Epoch: [1] Total time: 0:01:27 (0.4454 s / it)\n",
      "Averaged stats: loss: 1.7908 (2.9429)\n",
      "Test:  [ 0/40]  eta: 0:00:34  loss: 1.5626 (1.5626)  acc1: 57.8125 (57.8125)  acc5: 88.2812 (88.2812)  time: 0.8700  data: 0.7121  max mem: 26685\n",
      "Test:  [20/40]  eta: 0:00:04  loss: 1.6668 (1.6316)  acc1: 55.8594 (56.5290)  acc5: 85.5469 (85.8631)  time: 0.1870  data: 0.0295  max mem: 26685\n",
      "Test:  [39/40]  eta: 0:00:00  loss: 1.6303 (1.6271)  acc1: 56.2500 (56.5900)  acc5: 85.5469 (86.1000)  time: 0.1798  data: 0.0291  max mem: 26685\n",
      "Test: Total time: 0:00:08 (0.2031 s / it)\n",
      "* Acc@1 56.590 Acc@5 86.100 loss 1.627\n",
      "Accuracy of the network on the 40 test images: 56.6%\n",
      "Epoch: [2]  [  0/196]  eta: 0:04:00  loss: 1.6919 (1.6919)  time: 1.2295  data: 0.8088  max mem: 26685\n",
      "Epoch: [2]  [100/196]  eta: 0:00:44  loss: 1.2799 (1.4048)  time: 0.4518  data: 0.0292  max mem: 26685\n",
      "Epoch: [2]  [195/196]  eta: 0:00:00  loss: 1.0508 (1.2816)  time: 0.4411  data: 0.0296  max mem: 26685\n",
      "Epoch: [2] Total time: 0:01:29 (0.4555 s / it)\n",
      "Averaged stats: loss: 1.0508 (1.2816)\n",
      "Test:  [ 0/40]  eta: 0:00:35  loss: 1.0887 (1.0887)  acc1: 67.9688 (67.9688)  acc5: 92.1875 (92.1875)  time: 0.8774  data: 0.7164  max mem: 26685\n",
      "Test:  [20/40]  eta: 0:00:04  loss: 1.1009 (1.0830)  acc1: 67.9688 (69.2894)  acc5: 92.5781 (92.8199)  time: 0.1901  data: 0.0297  max mem: 26685\n",
      "Test:  [39/40]  eta: 0:00:00  loss: 1.0383 (1.0692)  acc1: 70.7031 (69.8500)  acc5: 92.9688 (92.7500)  time: 0.1825  data: 0.0293  max mem: 26685\n",
      "Test: Total time: 0:00:08 (0.2061 s / it)\n",
      "* Acc@1 69.850 Acc@5 92.750 loss 1.069\n",
      "Accuracy of the network on the 40 test images: 69.8%\n",
      "Epoch: [3]  [  0/196]  eta: 0:03:59  loss: 1.0740 (1.0740)  time: 1.2228  data: 0.7974  max mem: 26685\n",
      "Epoch: [3]  [100/196]  eta: 0:00:44  loss: 0.8352 (0.8663)  time: 0.4551  data: 0.0292  max mem: 26685\n",
      "Epoch: [3]  [195/196]  eta: 0:00:00  loss: 0.7439 (0.8392)  time: 0.4416  data: 0.0297  max mem: 26685\n",
      "Epoch: [3] Total time: 0:01:29 (0.4579 s / it)\n",
      "Averaged stats: loss: 0.7439 (0.8392)\n",
      "Test:  [ 0/40]  eta: 0:00:35  loss: 0.7639 (0.7639)  acc1: 77.7344 (77.7344)  acc5: 94.9219 (94.9219)  time: 0.8868  data: 0.7179  max mem: 26685\n",
      "Test:  [20/40]  eta: 0:00:04  loss: 0.8647 (0.8619)  acc1: 75.0000 (75.4650)  acc5: 94.9219 (94.8847)  time: 0.1905  data: 0.0295  max mem: 26685\n",
      "Test:  [39/40]  eta: 0:00:00  loss: 0.8169 (0.8457)  acc1: 75.3906 (75.4900)  acc5: 94.9219 (94.8800)  time: 0.1832  data: 0.0293  max mem: 26685\n",
      "Test: Total time: 0:00:08 (0.2069 s / it)\n",
      "* Acc@1 75.490 Acc@5 94.880 loss 0.846\n",
      "Accuracy of the network on the 40 test images: 75.5%\n",
      "Epoch: [4]  [  0/196]  eta: 0:04:05  loss: 0.7088 (0.7088)  time: 1.2523  data: 0.8275  max mem: 26685\n",
      "Epoch: [4]  [100/196]  eta: 0:00:44  loss: 0.6034 (0.6079)  time: 0.4537  data: 0.0289  max mem: 26685\n",
      "Epoch: [4]  [195/196]  eta: 0:00:00  loss: 0.5525 (0.6040)  time: 0.4405  data: 0.0298  max mem: 26685\n",
      "Epoch: [4] Total time: 0:01:29 (0.4570 s / it)\n",
      "Averaged stats: loss: 0.5525 (0.6040)\n",
      "Test:  [ 0/40]  eta: 0:00:34  loss: 0.7493 (0.7493)  acc1: 76.1719 (76.1719)  acc5: 96.0938 (96.0938)  time: 0.8595  data: 0.6986  max mem: 26685\n",
      "Test:  [20/40]  eta: 0:00:04  loss: 0.7667 (0.7791)  acc1: 77.3438 (77.1019)  acc5: 95.7031 (95.7961)  time: 0.1909  data: 0.0295  max mem: 26685\n",
      "Test:  [39/40]  eta: 0:00:00  loss: 0.7495 (0.7635)  acc1: 78.1250 (77.4400)  acc5: 95.7031 (95.5500)  time: 0.1826  data: 0.0289  max mem: 26685\n",
      "Test: Total time: 0:00:08 (0.2060 s / it)\n",
      "* Acc@1 77.440 Acc@5 95.550 loss 0.764\n",
      "Accuracy of the network on the 40 test images: 77.4%\n",
      "Epoch: [5]  [  0/196]  eta: 0:04:02  loss: 0.3640 (0.3640)  time: 1.2361  data: 0.8099  max mem: 26685\n",
      "Epoch: [5]  [100/196]  eta: 0:00:44  loss: 0.4437 (0.4417)  time: 0.4524  data: 0.0290  max mem: 26685\n"
     ]
    }
   ],
   "source": [
    "print(f\"Start training for {EPOCHS} epochs\")\n",
    "\n",
    "for epoch in range(1, EPOCHS+1):\n",
    "    train_stats = train_one_epoch(\n",
    "        model, criterion, cifar100_training_loader,\n",
    "        optimizer, device, epoch)\n",
    "    test_stats = evaluate(cifar100_test_loader, model, criterion, device)\n",
    "    print(f\"Accuracy of the network on the {len(cifar100_test_loader)} test images: {test_stats['acc1']:.1f}%\")        "
   ]
  },
  {
   "cell_type": "code",
   "execution_count": null,
   "id": "9a667bfc",
   "metadata": {},
   "outputs": [],
   "source": [
    "start_time = time.time()\n",
    "test_stats = evaluate(cifar100_test_loader, model, criterion, device)\n",
    "end_time = time.time()\n",
    "num_samples = len(cifar100_test_loader.dataset)\n",
    "throughput = num_samples / (end_time - start_time)\n",
    "print(\"Throughput: {}\".format(throughput))"
   ]
  }
 ],
 "metadata": {
  "kernelspec": {
   "display_name": "Python 3 (ipykernel)",
   "language": "python",
   "name": "python3"
  },
  "language_info": {
   "codemirror_mode": {
    "name": "ipython",
    "version": 3
   },
   "file_extension": ".py",
   "mimetype": "text/x-python",
   "name": "python",
   "nbconvert_exporter": "python",
   "pygments_lexer": "ipython3",
   "version": "3.9.12"
  }
 },
 "nbformat": 4,
 "nbformat_minor": 5
}
